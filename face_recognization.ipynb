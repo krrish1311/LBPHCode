{
 "cells": [
  {
   "cell_type": "code",
   "execution_count": 1,
   "metadata": {},
   "outputs": [],
   "source": [
    "import cv2\n",
    "import numpy as np"
   ]
  },
  {
   "cell_type": "code",
   "execution_count": 2,
   "metadata": {},
   "outputs": [],
   "source": [
    "img_recognizer = cv2.CascadeClassifier(\"haarcascade_frontalface_default.xml\")"
   ]
  },
  {
   "cell_type": "code",
   "execution_count": 3,
   "metadata": {},
   "outputs": [],
   "source": [
    "#for checking pupose\n",
    "def load_img(photo) :\n",
    "    cv2.imshow(\"hii\" ,  photo)\n",
    "    cv2.waitKey()\n",
    "    cv2.destroyAllWindows()"
   ]
  },
  {
   "cell_type": "code",
   "execution_count": 4,
   "metadata": {},
   "outputs": [
    {
     "name": "stderr",
     "output_type": "stream",
     "text": [
      "<>:10: SyntaxWarning: \"is\" with a literal. Did you mean \"==\"?\n",
      "<>:10: SyntaxWarning: \"is\" with a literal. Did you mean \"==\"?\n",
      "<ipython-input-4-285f16065693>:10: SyntaxWarning: \"is\" with a literal. Did you mean \"==\"?\n",
      "  if faces is () :\n"
     ]
    }
   ],
   "source": [
    "def img_extractor(img) :\n",
    "    \n",
    "    #faces stores the dimenssions of face in the form of array\n",
    "    #still finding why we put 1.3,5 as arguments in faces ????\n",
    "    \n",
    "    gray = cv2.cvtColor(img , cv2.COLOR_BGR2GRAY)\n",
    "    faces = img_recognizer.detectMultiScale(gray,1.3,5 )\n",
    "    \n",
    "    #if it not recognized our face then it will give null \n",
    "    if faces is () :\n",
    "        return None\n",
    "    #to store the array into individual variable we use for loop \n",
    "    \n",
    "    for (x,y,w,h) in faces :\n",
    "        croped_img = img[y:y+h ,x:x+w]\n",
    "        \n",
    "    return croped_img\n",
    "    "
   ]
  },
  {
   "cell_type": "code",
   "execution_count": null,
   "metadata": {},
   "outputs": [],
   "source": []
  },
  {
   "cell_type": "code",
   "execution_count": 5,
   "metadata": {},
   "outputs": [
    {
     "name": "stdout",
     "output_type": "stream",
     "text": [
      "face not found \n",
      "face not found \n",
      "face not found \n",
      "face not found \n",
      "face not found \n",
      "face not found \n",
      "face not found \n",
      "face not found \n",
      "face not found \n",
      "face not found \n",
      "face not found \n",
      "face not found \n",
      "face not found \n",
      "face not found \n",
      "face not found \n",
      "face not found \n",
      "face not found \n",
      "face not found \n",
      "face not found \n",
      "face not found \n",
      "face not found \n",
      "face not found \n",
      "face not found \n",
      "face not found \n",
      "face not found \n",
      "face not found \n",
      "face not found \n",
      "face not found \n",
      "face not found \n",
      "face not found \n",
      "face not found \n",
      "face not found \n",
      "face not found \n",
      "face not found \n",
      "face not found \n",
      "face not found \n",
      "face not found \n",
      "face not found \n",
      "face not found \n",
      "face not found \n",
      "face not found \n",
      "face not found \n",
      "face not found \n",
      "face not found \n",
      "face not found \n",
      "face not found \n",
      "face not found \n",
      "face not found \n",
      "face not found \n",
      "face not found \n",
      "face not found \n",
      "face not found \n",
      "face not found \n",
      "face not found \n",
      "face not found \n",
      "face not found \n",
      "face not found \n",
      "face not found \n",
      "face not found \n",
      "face not found \n",
      "face not found \n",
      "face not found \n",
      "face not found \n",
      "face not found \n",
      "face not found \n",
      "face not found \n",
      "face not found \n",
      "face not found \n",
      "face not found \n",
      "face not found \n",
      "face not found \n",
      "face not found \n",
      "face not found \n",
      "face not found \n",
      "face not found \n",
      "face not found \n",
      "face not found \n",
      "face not found \n",
      "face not found \n",
      "face not found \n",
      "face not found \n",
      "face not found \n",
      "face not found \n",
      "face not found \n",
      "face not found \n",
      "face not found \n",
      "face not found \n",
      "face not found \n",
      "face not found \n",
      "face not found \n",
      "face not found \n",
      "face not found \n",
      "face not found \n",
      "face not found \n",
      "face not found \n",
      "face not found \n",
      "face not found \n",
      "face not found \n",
      "face not found \n",
      "face not found \n",
      "face not found \n",
      "face not found \n",
      "face not found \n",
      "face not found \n",
      "face not found \n",
      "face not found \n",
      "face not found \n",
      "face not found \n",
      "face not found \n",
      "face not found \n",
      "face not found \n",
      "face not found \n",
      "face not found \n",
      "face not found \n",
      "face not found \n",
      "face not found \n",
      "face not found \n",
      "face not found \n",
      "face not found \n",
      "face not found \n",
      "face not found \n",
      "face not found \n",
      "face not found \n",
      "face not found \n",
      "face not found \n",
      "face not found \n",
      "face not found \n",
      "face not found \n",
      "face not found \n",
      "face not found \n",
      "face not found \n",
      "face not found \n",
      "face not found \n",
      "face not found \n",
      "face not found \n",
      "face not found \n",
      "face not found \n",
      "face not found \n",
      "face not found \n",
      "face not found \n",
      "face not found \n",
      "face not found \n",
      "face not found \n",
      "face not found \n",
      "face not found \n",
      "face not found \n",
      "face not found \n",
      "face not found \n",
      "face not found \n",
      "face not found \n",
      "face not found \n",
      "face not found \n",
      "face not found \n",
      "face not found \n",
      "face not found \n",
      "face not found \n",
      "face not found \n",
      "face not found \n",
      "face not found \n",
      "face not found \n",
      "face not found \n",
      "face not found \n",
      "face not found \n",
      "face not found \n",
      "face not found \n",
      "face not found \n",
      "face not found \n",
      "face not found \n",
      "face not found \n",
      "face not found \n",
      "face not found \n",
      "face not found \n",
      "face not found \n",
      "face not found \n",
      "face not found \n",
      "face not found \n",
      "face not found \n",
      "face not found \n",
      "face not found \n",
      "face not found \n",
      "face not found \n",
      "face not found \n",
      "face not found \n",
      "face not found \n",
      "face not found \n",
      "face not found \n",
      "face not found \n",
      "face not found \n",
      "face not found \n",
      "face not found \n",
      "face not found \n",
      "face not found \n",
      "face not found \n",
      "face not found \n",
      "face not found \n",
      "face not found \n",
      "face not found \n",
      "face not found \n",
      "face not found \n",
      "face not found \n",
      "face not found \n",
      "face not found \n",
      "face not found \n",
      "face not found \n",
      "face not found \n",
      "face not found \n",
      "face not found \n",
      "face not found \n",
      "face not found \n",
      "face not found \n",
      "face not found \n",
      "face not found \n",
      "face not found \n",
      "face not found \n",
      "face not found \n",
      "face not found \n",
      "face not found \n",
      "face not found \n",
      "face not found \n",
      "face not found \n",
      "face not found \n",
      "face not found \n",
      "face not found \n",
      "face not found \n",
      "face not found \n",
      "face not found \n",
      "face not found \n",
      "face not found \n",
      "face not found \n",
      "face not found \n",
      "face not found \n",
      "face not found \n",
      "face not found \n",
      "face not found \n",
      "face not found \n",
      "face not found \n",
      "face not found \n",
      "face not found \n",
      "face not found \n",
      "face not found \n",
      "face not found \n",
      "face not found \n",
      "face not found \n",
      "face not found \n",
      "face not found \n",
      "face not found \n",
      "face not found \n",
      "face not found \n",
      "face not found \n",
      "face not found \n",
      "face not found \n",
      "face not found \n",
      "face not found \n",
      "face not found \n",
      "face not found \n",
      "face not found \n",
      "face not found \n",
      "face not found \n",
      "face not found \n",
      "face not found \n",
      "face not found \n",
      "face not found \n",
      "face not found \n",
      "face not found \n",
      "face not found \n",
      "face not found \n",
      "face not found \n",
      "face not found \n",
      "face not found \n",
      "face not found \n",
      "face not found \n",
      "face not found \n",
      "face not found \n",
      "face not found \n",
      "face not found \n",
      "face not found \n",
      "face not found \n",
      "face not found \n",
      "face not found \n",
      "face not found \n",
      "face not found \n",
      "face not found \n",
      "face not found \n",
      "face not found \n",
      "face not found \n",
      "face not found \n",
      "face not found \n",
      "face not found \n",
      "face not found \n",
      "face not found \n",
      "face not found \n",
      "face not found \n",
      "face not found \n",
      "face not found \n",
      "face not found \n",
      "face not found \n",
      "face not found \n",
      "face not found \n",
      "face not found \n",
      "face not found \n",
      "face not found \n",
      "face not found \n",
      "face not found \n",
      "face not found \n",
      "face not found \n",
      "face not found \n",
      "face not found \n",
      "face not found \n",
      "face not found \n",
      "face not found \n",
      "face not found \n",
      "face not found \n",
      "face not found \n",
      "face not found \n",
      "face not found \n",
      "face not found \n",
      "face not found \n",
      "face not found \n",
      "face not found \n",
      "face not found \n",
      "face not found \n",
      "face not found \n",
      "face not found \n",
      "face not found \n",
      "face not found \n",
      "Collecting Samples Complete\n"
     ]
    }
   ],
   "source": [
    "cap=cv2.VideoCapture(0)\n",
    "count=0\n",
    "while True :\n",
    "    ret,frame = cap.read()\n",
    "    # we want only face detected images as data so \n",
    "    if img_extractor(frame) is not None :\n",
    "        count=count+1\n",
    "            #all images should have same size\n",
    "        face = cv2.resize(img_extractor(frame),(200,200))\n",
    "        face = cv2.cvtColor(face, cv2.COLOR_BGR2GRAY)\n",
    "        #file_path_name_ext is the string used as path \n",
    "        # save the files in some folder and we need to give it a path\n",
    "        # cv2.imwrite() is used to save the files in respective folder\n",
    "        file_path_name_ext = \"./faces/user/\" + str(count) +\".jpg\"\n",
    "        cv2.imwrite(file_path_name_ext ,face)\n",
    "        \n",
    "        #put count text on face while video is live\n",
    "        cv2.putText(face,str(count),(50,50),cv2.FONT_HERSHEY_DUPLEX,1,(0,255,0),2)\n",
    "        cv2.imshow(\"croped_img\" , face)\n",
    "        \n",
    "    else :\n",
    "        print(\"face not found \")\n",
    "        pass\n",
    "        \n",
    "    if cv2.waitKey(1) == 13 or count == 100: \n",
    "        break\n",
    "        \n",
    "cap.release()\n",
    "cv2.destroyAllWindows()      \n",
    "print(\"Collecting Samples Complete\")     \n",
    "       \n",
    "        \n",
    "        \n",
    "        \n",
    "    "
   ]
  },
  {
   "cell_type": "code",
   "execution_count": 6,
   "metadata": {},
   "outputs": [],
   "source": [
    "cap.release()"
   ]
  },
  {
   "cell_type": "code",
   "execution_count": 32,
   "metadata": {},
   "outputs": [
    {
     "name": "stdout",
     "output_type": "stream",
     "text": [
      "Model trained sucessefully\n"
     ]
    }
   ],
   "source": [
    "#listdir function is used to retrieve names of the files in the directory ,it stores in listdir list\n",
    "#isfile gives boolean value (true or false) ,it detect is the file present in the directory right now\n",
    "#join this function joins two strings \n",
    "\n",
    "import cv2\n",
    "import numpy as np\n",
    "from os import listdir\n",
    "from os.path import isfile ,join\n",
    "data_path = './faces/user/'\n",
    "\n",
    "data_file_path=[f for f in listdir(data_path) if isfile(join(data_path ,f))]\n",
    "\n",
    "#we need array for modeling of training data and labels\n",
    "training_data = []\n",
    "labels=[]\n",
    "for i, files in enumerate(data_file_path):\n",
    "    image_path = data_path + data_file_path[i]\n",
    "    images = cv2.imread(image_path, cv2.IMREAD_GRAYSCALE)\n",
    "    training_data.append(np.asarray(images, dtype=np.uint8))\n",
    "    labels.append(i)\n",
    "\n",
    "# Create a numpy array for both training data and labels\n",
    "labels = np.asarray(labels, dtype=np.int32)\n",
    "\n",
    "#cv2.face_LBPHFaceRecognizer.create() method used to train the model\n",
    "krrish_model  = cv2.face_LBPHFaceRecognizer.create()\n",
    "\n",
    "#for training the model we provide np.asarray\n",
    "\n",
    "krrish_model.train(np.asarray(training_data), np.asarray(labels))\n",
    "print(\"Model trained sucessefully\")\n",
    "\n",
    "\n"
   ]
  },
  {
   "cell_type": "code",
   "execution_count": 33,
   "metadata": {},
   "outputs": [
    {
     "name": "stderr",
     "output_type": "stream",
     "text": [
      "<>:11: SyntaxWarning: \"is\" with a literal. Did you mean \"==\"?\n",
      "<>:11: SyntaxWarning: \"is\" with a literal. Did you mean \"==\"?\n",
      "<ipython-input-33-5b87554adba7>:11: SyntaxWarning: \"is\" with a literal. Did you mean \"==\"?\n",
      "  if faces is () :\n"
     ]
    }
   ],
   "source": [
    "#here we draw a rectangle on face and show it to the screen and also crop the photo and give it for the prediction\n",
    "def img_processor(img ,size=0.5) :\n",
    "    \n",
    "    #faces stores the dimenssions of face in the form of array\n",
    "    #still finding why we put 1.3,5 as arguments in faces ????\n",
    "    \n",
    "    gray = cv2.cvtColor(img , cv2.COLOR_BGR2GRAY)\n",
    "    faces = img_recognizer.detectMultiScale(gray,1.3,5 )\n",
    "    \n",
    "    #if it not recognized our face then it will give null \n",
    "    if faces is () :\n",
    "        return img , []\n",
    "    #to store the array into individual variable we use for loop \n",
    "    \n",
    "    for (x,y,w,h) in faces :\n",
    "        cv2.rectangle(img,(x,y),(x+w,y+h),(0,255,255),2)\n",
    "        roi = img[y:y+h ,x:x+w]\n",
    "        roi = cv2.resize(roi, (200, 200))\n",
    "        \n",
    "    return img ,roi\n",
    "    "
   ]
  },
  {
   "cell_type": "code",
   "execution_count": null,
   "metadata": {},
   "outputs": [],
   "source": [
    "cap = cv2.VideoCapture()\n",
    "while True :\n",
    "    ret , photo = cap.read()\n",
    "    image , img_process =img_processor(photo)\n",
    "    \n",
    "    try:\n",
    "        #model predict gives two numbers ,using these two numbers we can find out confidence score\n",
    "        img_process = cv2.cvtColor(img_process, cv2.COLOR_BGR2GRAY)\n",
    "\n",
    "        # Pass face to prediction model\n",
    "        # \"results\" comprises of a tuple containing the label and the confidence value\n",
    "        results = krrish_model.predict(img_process)\n",
    "        # harry_model.predict(face)\n",
    "        \n",
    "        if results[1] < 500:\n",
    "            confidence = int( 100 * (1 - (results[1])/400) )\n",
    "            display_string = str(confidence) + '% Confident he is krrish'\n",
    "            \n",
    "        cv2.putText(image, display_string, (100, 120), cv2.FONT_HERSHEY_COMPLEX, 1, (255,120,150), 2)\n",
    "        if confidence > 80:\n",
    "            cv2.putText(image, \"Hey Krrish\", (250, 450), cv2.FONT_HERSHEY_COMPLEX, 1, (0,255,0), 2)\n",
    "            cv2.imshow('Face Recognition', image )\n",
    "            \n",
    "            break\n",
    "         \n",
    "        else:\n",
    "            \n",
    "            cv2.putText(image, \"ALERT ! UNKNOWN PERSON DETECTED\", (250, 450), cv2.FONT_HERSHEY_COMPLEX, 1, (0,0,255), 2)\n",
    "            cv2.imshow('Face Recognition', image )\n",
    "\n",
    "    except:\n",
    "        cv2.putText(image, \"No Face Found\", (220, 120) , cv2.FONT_HERSHEY_COMPLEX, 1, (0,0,255), 2)\n",
    "        cv2.putText(image, \"SEARCHING for face........\", (250, 450), cv2.FONT_HERSHEY_COMPLEX, 1, (0,0,255), 2)\n",
    "        cv2.imshow('Face Recognition', image )\n",
    "        pass\n",
    "        \n",
    "    if cv2.waitKey(1) == 13: #13 is the Enter Key\n",
    "        break\n",
    "        \n",
    "cap.release()\n",
    "cv2.destroyAllWindows()     "
   ]
  },
  {
   "cell_type": "code",
   "execution_count": null,
   "metadata": {},
   "outputs": [],
   "source": [
    "import smtplib\n",
    "server=smtplib.SMTP('smtp.gmail.com',587)server.starttls() #SMTP :-simple mail transfer protocol\n",
    "server.login('krishgoal2000@gmail.com' , '9405054227')\n",
    "server.sendmail('krishgoal2000@gmail.com' ,'krrishdigole@gmail.com','your message has been recieved from programming')"
   ]
  },
  {
   "cell_type": "code",
   "execution_count": 61,
   "metadata": {},
   "outputs": [],
   "source": [
    "def send_confirmation_email() :\n",
    "    #smtlib is used to send the mails \n",
    "    # here i am using decouple library to import env.variables\n",
    "    import smtplib \n",
    "    import os\n",
    "    from decouple import config\n",
    "    \n",
    "    #i am retrieving my email id and password from env.variable which i have been saved by making .env file\n",
    "    \n",
    "    email = config('EMAIL_KRRISH')\n",
    "    password =config('EMAIL_PASS')\n",
    "    \n",
    "    #here we need to know which email we are using ex. gmail\n",
    "    #we providing port number of the server and it is fix\n",
    "    \n",
    "    server=smtplib.SMTP('smtp.gmail.com' ,587)\n",
    "    \n",
    "    #transfer layer security : tls\n",
    "    server.starttls()\n",
    "    \n",
    "    #we need to login to our email_id\n",
    "    \n",
    "    server.login(email , password)\n",
    "    server.sendmail(email,'krrishdigole@gmail.com','your face has been detected and confirmed')\n",
    "    "
   ]
  },
  {
   "cell_type": "code",
   "execution_count": 41,
   "metadata": {},
   "outputs": [],
   "source": [
    "import smtplib\n",
    "import os\n",
    "server=smtplib.SMTP('smtp.gmail.com',587)\n",
    "email = os.environ.get('EMAIL_USER')\n",
    "PASS = os.environ.get('EMAIL_PASS')\n"
   ]
  },
  {
   "cell_type": "code",
   "execution_count": 42,
   "metadata": {},
   "outputs": [
    {
     "ename": "SMTPNotSupportedError",
     "evalue": "SMTP AUTH extension not supported by server.",
     "output_type": "error",
     "traceback": [
      "\u001b[1;31m---------------------------------------------------------------------------\u001b[0m",
      "\u001b[1;31mSMTPNotSupportedError\u001b[0m                     Traceback (most recent call last)",
      "\u001b[1;32m<ipython-input-42-053ed6c56466>\u001b[0m in \u001b[0;36m<module>\u001b[1;34m\u001b[0m\n\u001b[1;32m----> 1\u001b[1;33m \u001b[0mserver\u001b[0m\u001b[1;33m.\u001b[0m\u001b[0mlogin\u001b[0m\u001b[1;33m(\u001b[0m\u001b[0memail\u001b[0m \u001b[1;33m,\u001b[0m \u001b[0mPASS\u001b[0m\u001b[1;33m)\u001b[0m\u001b[1;33m\u001b[0m\u001b[1;33m\u001b[0m\u001b[0m\n\u001b[0m",
      "\u001b[1;32m~\\anaconda3\\anaconda_2\\lib\\smtplib.py\u001b[0m in \u001b[0;36mlogin\u001b[1;34m(self, user, password, initial_response_ok)\u001b[0m\n\u001b[0;32m    698\u001b[0m         \u001b[0mself\u001b[0m\u001b[1;33m.\u001b[0m\u001b[0mehlo_or_helo_if_needed\u001b[0m\u001b[1;33m(\u001b[0m\u001b[1;33m)\u001b[0m\u001b[1;33m\u001b[0m\u001b[1;33m\u001b[0m\u001b[0m\n\u001b[0;32m    699\u001b[0m         \u001b[1;32mif\u001b[0m \u001b[1;32mnot\u001b[0m \u001b[0mself\u001b[0m\u001b[1;33m.\u001b[0m\u001b[0mhas_extn\u001b[0m\u001b[1;33m(\u001b[0m\u001b[1;34m\"auth\"\u001b[0m\u001b[1;33m)\u001b[0m\u001b[1;33m:\u001b[0m\u001b[1;33m\u001b[0m\u001b[1;33m\u001b[0m\u001b[0m\n\u001b[1;32m--> 700\u001b[1;33m             raise SMTPNotSupportedError(\n\u001b[0m\u001b[0;32m    701\u001b[0m                 \"SMTP AUTH extension not supported by server.\")\n\u001b[0;32m    702\u001b[0m \u001b[1;33m\u001b[0m\u001b[0m\n",
      "\u001b[1;31mSMTPNotSupportedError\u001b[0m: SMTP AUTH extension not supported by server."
     ]
    }
   ],
   "source": [
    "server.login(email , PASS)"
   ]
  },
  {
   "cell_type": "code",
   "execution_count": 45,
   "metadata": {},
   "outputs": [],
   "source": [
    "from decouple import config"
   ]
  },
  {
   "cell_type": "code",
   "execution_count": 46,
   "metadata": {},
   "outputs": [],
   "source": [
    "email = config('EMAIL_KRRISH')\n",
    "passw = config('EMAIL_PASS')"
   ]
  },
  {
   "cell_type": "code",
   "execution_count": 47,
   "metadata": {},
   "outputs": [
    {
     "data": {
      "text/plain": [
       "'krishgoal2000@gmail.com '"
      ]
     },
     "execution_count": 47,
     "metadata": {},
     "output_type": "execute_result"
    }
   ],
   "source": [
    "email"
   ]
  },
  {
   "cell_type": "code",
   "execution_count": 62,
   "metadata": {},
   "outputs": [],
   "source": [
    "send_confirmation_email()"
   ]
  },
  {
   "cell_type": "code",
   "execution_count": 59,
   "metadata": {},
   "outputs": [],
   "source": [
    "email = config('EMAIL_KRRISH')\n",
    "password =config('EMAIL_PASS')"
   ]
  },
  {
   "cell_type": "code",
   "execution_count": null,
   "metadata": {},
   "outputs": [],
   "source": [
    "#here we need to know which email we are using ex. gmail\n",
    "    #we providing port number of the server and it is fix\n",
    "    \n",
    "    server=smtplib.SMTP('smtp.gmail.com' ,587)\n",
    "    \n",
    "    #we need to login to our email_id\n",
    "    \n",
    "    server.login(email , password)\n",
    "    server.sendmail(email,'krrishdigole@gmail.com','your face has been detected and confirmed')\n",
    "    "
   ]
  },
  {
   "cell_type": "code",
   "execution_count": 60,
   "metadata": {},
   "outputs": [
    {
     "data": {
      "text/plain": [
       "str"
      ]
     },
     "execution_count": 60,
     "metadata": {},
     "output_type": "execute_result"
    }
   ],
   "source": [
    "type(email)"
   ]
  },
  {
   "cell_type": "code",
   "execution_count": null,
   "metadata": {},
   "outputs": [],
   "source": []
  },
  {
   "cell_type": "code",
   "execution_count": null,
   "metadata": {},
   "outputs": [],
   "source": []
  },
  {
   "cell_type": "code",
   "execution_count": null,
   "metadata": {},
   "outputs": [],
   "source": []
  },
  {
   "cell_type": "code",
   "execution_count": null,
   "metadata": {},
   "outputs": [],
   "source": []
  },
  {
   "cell_type": "code",
   "execution_count": null,
   "metadata": {},
   "outputs": [],
   "source": []
  },
  {
   "cell_type": "code",
   "execution_count": null,
   "metadata": {},
   "outputs": [],
   "source": []
  },
  {
   "cell_type": "code",
   "execution_count": null,
   "metadata": {},
   "outputs": [],
   "source": []
  },
  {
   "cell_type": "code",
   "execution_count": null,
   "metadata": {},
   "outputs": [],
   "source": []
  },
  {
   "cell_type": "code",
   "execution_count": null,
   "metadata": {},
   "outputs": [],
   "source": []
  },
  {
   "cell_type": "code",
   "execution_count": null,
   "metadata": {},
   "outputs": [],
   "source": []
  },
  {
   "cell_type": "code",
   "execution_count": null,
   "metadata": {},
   "outputs": [],
   "source": []
  },
  {
   "cell_type": "code",
   "execution_count": null,
   "metadata": {},
   "outputs": [],
   "source": []
  },
  {
   "cell_type": "code",
   "execution_count": null,
   "metadata": {},
   "outputs": [],
   "source": []
  },
  {
   "cell_type": "code",
   "execution_count": null,
   "metadata": {},
   "outputs": [],
   "source": []
  },
  {
   "cell_type": "code",
   "execution_count": null,
   "metadata": {},
   "outputs": [],
   "source": []
  },
  {
   "cell_type": "code",
   "execution_count": null,
   "metadata": {},
   "outputs": [],
   "source": []
  },
  {
   "cell_type": "code",
   "execution_count": null,
   "metadata": {},
   "outputs": [],
   "source": []
  },
  {
   "cell_type": "code",
   "execution_count": null,
   "metadata": {},
   "outputs": [],
   "source": []
  },
  {
   "cell_type": "code",
   "execution_count": null,
   "metadata": {},
   "outputs": [],
   "source": []
  },
  {
   "cell_type": "code",
   "execution_count": null,
   "metadata": {},
   "outputs": [],
   "source": []
  },
  {
   "cell_type": "code",
   "execution_count": null,
   "metadata": {},
   "outputs": [],
   "source": []
  },
  {
   "cell_type": "code",
   "execution_count": null,
   "metadata": {},
   "outputs": [],
   "source": []
  },
  {
   "cell_type": "code",
   "execution_count": null,
   "metadata": {},
   "outputs": [],
   "source": []
  },
  {
   "cell_type": "code",
   "execution_count": null,
   "metadata": {},
   "outputs": [],
   "source": []
  },
  {
   "cell_type": "code",
   "execution_count": null,
   "metadata": {},
   "outputs": [],
   "source": []
  },
  {
   "cell_type": "code",
   "execution_count": null,
   "metadata": {},
   "outputs": [],
   "source": []
  },
  {
   "cell_type": "code",
   "execution_count": null,
   "metadata": {},
   "outputs": [],
   "source": []
  },
  {
   "cell_type": "code",
   "execution_count": null,
   "metadata": {},
   "outputs": [],
   "source": []
  },
  {
   "cell_type": "code",
   "execution_count": null,
   "metadata": {},
   "outputs": [],
   "source": []
  },
  {
   "cell_type": "code",
   "execution_count": null,
   "metadata": {},
   "outputs": [],
   "source": []
  },
  {
   "cell_type": "code",
   "execution_count": null,
   "metadata": {},
   "outputs": [],
   "source": []
  },
  {
   "cell_type": "code",
   "execution_count": 34,
   "metadata": {},
   "outputs": [],
   "source": [
    "check = cv2.imread(\"20.jpg\")"
   ]
  },
  {
   "cell_type": "code",
   "execution_count": 36,
   "metadata": {},
   "outputs": [],
   "source": [
    "check = cv2.cvtColor(check , cv2.COLOR_BGR2GRAY)"
   ]
  },
  {
   "cell_type": "code",
   "execution_count": 38,
   "metadata": {},
   "outputs": [],
   "source": [
    "result=krrish_model.predict(check)"
   ]
  },
  {
   "cell_type": "code",
   "execution_count": 39,
   "metadata": {},
   "outputs": [
    {
     "data": {
      "text/plain": [
       "91.26861305925156"
      ]
     },
     "execution_count": 39,
     "metadata": {},
     "output_type": "execute_result"
    }
   ],
   "source": [
    "100*(1-(result[1])/400)"
   ]
  },
  {
   "cell_type": "code",
   "execution_count": null,
   "metadata": {},
   "outputs": [],
   "source": []
  },
  {
   "cell_type": "code",
   "execution_count": null,
   "metadata": {},
   "outputs": [],
   "source": []
  },
  {
   "cell_type": "code",
   "execution_count": null,
   "metadata": {},
   "outputs": [],
   "source": []
  },
  {
   "cell_type": "code",
   "execution_count": null,
   "metadata": {},
   "outputs": [],
   "source": []
  },
  {
   "cell_type": "code",
   "execution_count": null,
   "metadata": {},
   "outputs": [],
   "source": []
  },
  {
   "cell_type": "code",
   "execution_count": null,
   "metadata": {},
   "outputs": [],
   "source": []
  },
  {
   "cell_type": "code",
   "execution_count": null,
   "metadata": {},
   "outputs": [],
   "source": []
  },
  {
   "cell_type": "code",
   "execution_count": 22,
   "metadata": {},
   "outputs": [],
   "source": [
    "from os import listdir\n",
    "from os.path import isfile ,join"
   ]
  },
  {
   "cell_type": "code",
   "execution_count": 10,
   "metadata": {},
   "outputs": [
    {
     "name": "stdout",
     "output_type": "stream",
     "text": [
      "Help on built-in function listdir in module nt:\n",
      "\n",
      "listdir(path=None)\n",
      "    Return a list containing the names of the files in the directory.\n",
      "    \n",
      "    path can be specified as either str, bytes, or a path-like object.  If path is bytes,\n",
      "      the filenames returned will also be bytes; in all other circumstances\n",
      "      the filenames returned will be str.\n",
      "    If path is None, uses the path='.'.\n",
      "    On some platforms, path may also be specified as an open file descriptor;\\\n",
      "      the file descriptor must refer to a directory.\n",
      "      If this functionality is unavailable, using it raises NotImplementedError.\n",
      "    \n",
      "    The list is in arbitrary order.  It does not include the special\n",
      "    entries '.' and '..' even if they are present in the directory.\n",
      "\n"
     ]
    }
   ],
   "source": [
    "help(listdir)"
   ]
  },
  {
   "cell_type": "code",
   "execution_count": 15,
   "metadata": {},
   "outputs": [
    {
     "name": "stdout",
     "output_type": "stream",
     "text": [
      "Help on function isfile in module genericpath:\n",
      "\n",
      "isfile(path)\n",
      "    Test whether a path is a regular file\n",
      "\n"
     ]
    }
   ],
   "source": [
    "help(isfile)"
   ]
  },
  {
   "cell_type": "code",
   "execution_count": 10,
   "metadata": {},
   "outputs": [],
   "source": [
    "data_path = './faces/user/'\n",
    "onlyfiles = [f for f in listdir(data_path) if isfile(join(data_path, f))]\n"
   ]
  },
  {
   "cell_type": "code",
   "execution_count": 12,
   "metadata": {},
   "outputs": [
    {
     "data": {
      "text/plain": [
       "list"
      ]
     },
     "execution_count": 12,
     "metadata": {},
     "output_type": "execute_result"
    }
   ],
   "source": [
    "type(onlyfiles)"
   ]
  },
  {
   "cell_type": "code",
   "execution_count": 13,
   "metadata": {},
   "outputs": [
    {
     "name": "stdout",
     "output_type": "stream",
     "text": [
      "Help on function join in module ntpath:\n",
      "\n",
      "join(path, *paths)\n",
      "    # Join two (or more) paths.\n",
      "\n"
     ]
    }
   ],
   "source": [
    "help(join)"
   ]
  },
  {
   "cell_type": "code",
   "execution_count": null,
   "metadata": {},
   "outputs": [],
   "source": [
    "import cv2\n",
    "import numpy as np\n",
    "from os import listdir\n",
    "from os import isfile , join"
   ]
  },
  {
   "cell_type": "code",
   "execution_count": 20,
   "metadata": {},
   "outputs": [
    {
     "data": {
      "text/plain": [
       "True"
      ]
     },
     "execution_count": 20,
     "metadata": {},
     "output_type": "execute_result"
    }
   ],
   "source": [
    "isfile(\"./faces/user/1.jpg\")"
   ]
  },
  {
   "cell_type": "code",
   "execution_count": 18,
   "metadata": {},
   "outputs": [],
   "source": [
    "i=[f for f in listdir(data_path)]"
   ]
  },
  {
   "cell_type": "code",
   "execution_count": 19,
   "metadata": {},
   "outputs": [
    {
     "data": {
      "text/plain": [
       "['1.jpg',\n",
       " '10.jpg',\n",
       " '100.jpg',\n",
       " '11.jpg',\n",
       " '12.jpg',\n",
       " '13.jpg',\n",
       " '14.jpg',\n",
       " '15.jpg',\n",
       " '16.jpg',\n",
       " '17.jpg',\n",
       " '18.jpg',\n",
       " '19.jpg',\n",
       " '2.jpg',\n",
       " '20.jpg',\n",
       " '21.jpg',\n",
       " '22.jpg',\n",
       " '23.jpg',\n",
       " '24.jpg',\n",
       " '25.jpg',\n",
       " '26.jpg',\n",
       " '27.jpg',\n",
       " '28.jpg',\n",
       " '29.jpg',\n",
       " '3.jpg',\n",
       " '30.jpg',\n",
       " '31.jpg',\n",
       " '32.jpg',\n",
       " '33.jpg',\n",
       " '34.jpg',\n",
       " '35.jpg',\n",
       " '36.jpg',\n",
       " '37.jpg',\n",
       " '38.jpg',\n",
       " '39.jpg',\n",
       " '4.jpg',\n",
       " '40.jpg',\n",
       " '41.jpg',\n",
       " '42.jpg',\n",
       " '43.jpg',\n",
       " '44.jpg',\n",
       " '45.jpg',\n",
       " '46.jpg',\n",
       " '47.jpg',\n",
       " '48.jpg',\n",
       " '49.jpg',\n",
       " '5.jpg',\n",
       " '50.jpg',\n",
       " '51.jpg',\n",
       " '52.jpg',\n",
       " '53.jpg',\n",
       " '54.jpg',\n",
       " '55.jpg',\n",
       " '56.jpg',\n",
       " '57.jpg',\n",
       " '58.jpg',\n",
       " '59.jpg',\n",
       " '6.jpg',\n",
       " '60.jpg',\n",
       " '61.jpg',\n",
       " '62.jpg',\n",
       " '63.jpg',\n",
       " '64.jpg',\n",
       " '65.jpg',\n",
       " '66.jpg',\n",
       " '67.jpg',\n",
       " '68.jpg',\n",
       " '69.jpg',\n",
       " '7.jpg',\n",
       " '70.jpg',\n",
       " '71.jpg',\n",
       " '72.jpg',\n",
       " '73.jpg',\n",
       " '74.jpg',\n",
       " '75.jpg',\n",
       " '76.jpg',\n",
       " '77.jpg',\n",
       " '78.jpg',\n",
       " '79.jpg',\n",
       " '8.jpg',\n",
       " '80.jpg',\n",
       " '81.jpg',\n",
       " '82.jpg',\n",
       " '83.jpg',\n",
       " '84.jpg',\n",
       " '85.jpg',\n",
       " '86.jpg',\n",
       " '87.jpg',\n",
       " '88.jpg',\n",
       " '89.jpg',\n",
       " '9.jpg',\n",
       " '90.jpg',\n",
       " '91.jpg',\n",
       " '92.jpg',\n",
       " '93.jpg',\n",
       " '94.jpg',\n",
       " '95.jpg',\n",
       " '96.jpg',\n",
       " '97.jpg',\n",
       " '98.jpg',\n",
       " '99.jpg']"
      ]
     },
     "execution_count": 19,
     "metadata": {},
     "output_type": "execute_result"
    }
   ],
   "source": [
    "i"
   ]
  },
  {
   "cell_type": "code",
   "execution_count": 25,
   "metadata": {},
   "outputs": [
    {
     "name": "stdout",
     "output_type": "stream",
     "text": [
      "Help on class enumerate in module builtins:\n",
      "\n",
      "class enumerate(object)\n",
      " |  enumerate(iterable, start=0)\n",
      " |  \n",
      " |  Return an enumerate object.\n",
      " |  \n",
      " |    iterable\n",
      " |      an object supporting iteration\n",
      " |  \n",
      " |  The enumerate object yields pairs containing a count (from start, which\n",
      " |  defaults to zero) and a value yielded by the iterable argument.\n",
      " |  \n",
      " |  enumerate is useful for obtaining an indexed list:\n",
      " |      (0, seq[0]), (1, seq[1]), (2, seq[2]), ...\n",
      " |  \n",
      " |  Methods defined here:\n",
      " |  \n",
      " |  __getattribute__(self, name, /)\n",
      " |      Return getattr(self, name).\n",
      " |  \n",
      " |  __iter__(self, /)\n",
      " |      Implement iter(self).\n",
      " |  \n",
      " |  __next__(self, /)\n",
      " |      Implement next(self).\n",
      " |  \n",
      " |  __reduce__(...)\n",
      " |      Return state information for pickling.\n",
      " |  \n",
      " |  ----------------------------------------------------------------------\n",
      " |  Static methods defined here:\n",
      " |  \n",
      " |  __new__(*args, **kwargs) from builtins.type\n",
      " |      Create and return a new object.  See help(type) for accurate signature.\n",
      "\n"
     ]
    }
   ],
   "source": [
    "help(enumerate)"
   ]
  },
  {
   "cell_type": "code",
   "execution_count": null,
   "metadata": {},
   "outputs": [],
   "source": []
  },
  {
   "cell_type": "code",
   "execution_count": null,
   "metadata": {},
   "outputs": [],
   "source": []
  },
  {
   "cell_type": "code",
   "execution_count": null,
   "metadata": {},
   "outputs": [],
   "source": []
  },
  {
   "cell_type": "code",
   "execution_count": null,
   "metadata": {},
   "outputs": [],
   "source": [
    "cap.release()"
   ]
  },
  {
   "cell_type": "code",
   "execution_count": null,
   "metadata": {},
   "outputs": [],
   "source": []
  },
  {
   "cell_type": "code",
   "execution_count": null,
   "metadata": {},
   "outputs": [],
   "source": []
  },
  {
   "cell_type": "code",
   "execution_count": null,
   "metadata": {},
   "outputs": [],
   "source": [
    "photo1 = cv2.cvtColor(photo1 , cv2.COLOR_BGR2GRAY)"
   ]
  },
  {
   "cell_type": "code",
   "execution_count": null,
   "metadata": {},
   "outputs": [],
   "source": [
    "model = img_recognizer.detectMultiScale(photo1 )"
   ]
  },
  {
   "cell_type": "code",
   "execution_count": null,
   "metadata": {},
   "outputs": [],
   "source": [
    "model"
   ]
  },
  {
   "cell_type": "code",
   "execution_count": null,
   "metadata": {},
   "outputs": [],
   "source": [
    "for (a,b,c,d) in model :\n",
    "    photo2 = photo1[b:b+d , a:a+c]"
   ]
  },
  {
   "cell_type": "code",
   "execution_count": null,
   "metadata": {},
   "outputs": [],
   "source": [
    "model[0]"
   ]
  },
  {
   "cell_type": "code",
   "execution_count": null,
   "metadata": {},
   "outputs": [],
   "source": [
    "load_img(photo2)"
   ]
  },
  {
   "cell_type": "code",
   "execution_count": null,
   "metadata": {},
   "outputs": [],
   "source": [
    "load_img(photo1)"
   ]
  },
  {
   "cell_type": "code",
   "execution_count": null,
   "metadata": {},
   "outputs": [],
   "source": [
    "photo1.shape"
   ]
  },
  {
   "cell_type": "code",
   "execution_count": null,
   "metadata": {},
   "outputs": [],
   "source": [
    "photo2.shape"
   ]
  },
  {
   "cell_type": "code",
   "execution_count": null,
   "metadata": {},
   "outputs": [],
   "source": [
    "photo3 = cv2.imread(\"joker-1.png\")"
   ]
  },
  {
   "cell_type": "code",
   "execution_count": null,
   "metadata": {},
   "outputs": [],
   "source": [
    "load_img(img_extractor(photo3))"
   ]
  },
  {
   "cell_type": "code",
   "execution_count": null,
   "metadata": {},
   "outputs": [],
   "source": []
  },
  {
   "cell_type": "code",
   "execution_count": null,
   "metadata": {},
   "outputs": [],
   "source": []
  },
  {
   "cell_type": "code",
   "execution_count": null,
   "metadata": {},
   "outputs": [],
   "source": []
  },
  {
   "cell_type": "code",
   "execution_count": null,
   "metadata": {},
   "outputs": [],
   "source": []
  },
  {
   "cell_type": "code",
   "execution_count": null,
   "metadata": {},
   "outputs": [],
   "source": []
  },
  {
   "cell_type": "code",
   "execution_count": null,
   "metadata": {},
   "outputs": [],
   "source": []
  },
  {
   "cell_type": "code",
   "execution_count": null,
   "metadata": {},
   "outputs": [],
   "source": []
  },
  {
   "cell_type": "code",
   "execution_count": null,
   "metadata": {},
   "outputs": [],
   "source": []
  },
  {
   "cell_type": "code",
   "execution_count": null,
   "metadata": {},
   "outputs": [],
   "source": []
  },
  {
   "cell_type": "code",
   "execution_count": null,
   "metadata": {},
   "outputs": [],
   "source": []
  },
  {
   "cell_type": "code",
   "execution_count": null,
   "metadata": {},
   "outputs": [],
   "source": []
  },
  {
   "cell_type": "code",
   "execution_count": null,
   "metadata": {},
   "outputs": [],
   "source": []
  },
  {
   "cell_type": "code",
   "execution_count": null,
   "metadata": {},
   "outputs": [],
   "source": []
  },
  {
   "cell_type": "code",
   "execution_count": null,
   "metadata": {},
   "outputs": [],
   "source": []
  },
  {
   "cell_type": "code",
   "execution_count": null,
   "metadata": {},
   "outputs": [],
   "source": []
  },
  {
   "cell_type": "code",
   "execution_count": null,
   "metadata": {},
   "outputs": [],
   "source": []
  },
  {
   "cell_type": "code",
   "execution_count": null,
   "metadata": {},
   "outputs": [],
   "source": []
  },
  {
   "cell_type": "code",
   "execution_count": null,
   "metadata": {},
   "outputs": [],
   "source": []
  },
  {
   "cell_type": "code",
   "execution_count": null,
   "metadata": {},
   "outputs": [],
   "source": []
  },
  {
   "cell_type": "code",
   "execution_count": null,
   "metadata": {},
   "outputs": [],
   "source": []
  },
  {
   "cell_type": "code",
   "execution_count": null,
   "metadata": {},
   "outputs": [],
   "source": []
  },
  {
   "cell_type": "code",
   "execution_count": null,
   "metadata": {},
   "outputs": [],
   "source": []
  },
  {
   "cell_type": "code",
   "execution_count": null,
   "metadata": {},
   "outputs": [],
   "source": []
  },
  {
   "cell_type": "code",
   "execution_count": null,
   "metadata": {},
   "outputs": [],
   "source": []
  }
 ],
 "metadata": {
  "kernelspec": {
   "display_name": "Python 3",
   "language": "python",
   "name": "python3"
  },
  "language_info": {
   "codemirror_mode": {
    "name": "ipython",
    "version": 3
   },
   "file_extension": ".py",
   "mimetype": "text/x-python",
   "name": "python",
   "nbconvert_exporter": "python",
   "pygments_lexer": "ipython3",
   "version": "3.8.5"
  }
 },
 "nbformat": 4,
 "nbformat_minor": 4
}
